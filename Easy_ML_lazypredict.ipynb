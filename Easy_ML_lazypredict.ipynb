{
  "nbformat": 4,
  "nbformat_minor": 0,
  "metadata": {
    "colab": {
      "provenance": [],
      "authorship_tag": "ABX9TyMROFDBRMWDH7nPoBRMKUKa",
      "include_colab_link": true
    },
    "kernelspec": {
      "name": "python3",
      "display_name": "Python 3"
    },
    "language_info": {
      "name": "python"
    }
  },
  "cells": [
    {
      "cell_type": "markdown",
      "metadata": {
        "id": "view-in-github",
        "colab_type": "text"
      },
      "source": [
        "<a href=\"https://colab.research.google.com/github/wokech/python_tutorials/blob/main/Easy_ML_lazypredict.ipynb\" target=\"_parent\"><img src=\"https://colab.research.google.com/assets/colab-badge.svg\" alt=\"Open In Colab\"/></a>"
      ]
    },
    {
      "cell_type": "markdown",
      "source": [
        "Installation"
      ],
      "metadata": {
        "id": "YvpMWfTI_qlE"
      }
    },
    {
      "cell_type": "code",
      "source": [
        "pip install lazypredict"
      ],
      "metadata": {
        "colab": {
          "base_uri": "https://localhost:8080/"
        },
        "id": "onJzAoe8_fNN",
        "outputId": "8918116f-5d17-471d-f7d5-4d32b746188d"
      },
      "execution_count": 2,
      "outputs": [
        {
          "output_type": "stream",
          "name": "stdout",
          "text": [
            "Looking in indexes: https://pypi.org/simple, https://us-python.pkg.dev/colab-wheels/public/simple/\n",
            "Collecting lazypredict\n",
            "  Downloading lazypredict-0.2.12-py2.py3-none-any.whl (12 kB)\n",
            "Requirement already satisfied: tqdm in /usr/local/lib/python3.7/dist-packages (from lazypredict) (4.64.1)\n",
            "Requirement already satisfied: scikit-learn in /usr/local/lib/python3.7/dist-packages (from lazypredict) (1.0.2)\n",
            "Requirement already satisfied: joblib in /usr/local/lib/python3.7/dist-packages (from lazypredict) (1.2.0)\n",
            "Requirement already satisfied: xgboost in /usr/local/lib/python3.7/dist-packages (from lazypredict) (0.90)\n",
            "Requirement already satisfied: click in /usr/local/lib/python3.7/dist-packages (from lazypredict) (7.1.2)\n",
            "Requirement already satisfied: lightgbm in /usr/local/lib/python3.7/dist-packages (from lazypredict) (2.2.3)\n",
            "Requirement already satisfied: pandas in /usr/local/lib/python3.7/dist-packages (from lazypredict) (1.3.5)\n",
            "Requirement already satisfied: numpy in /usr/local/lib/python3.7/dist-packages (from lightgbm->lazypredict) (1.21.6)\n",
            "Requirement already satisfied: scipy in /usr/local/lib/python3.7/dist-packages (from lightgbm->lazypredict) (1.7.3)\n",
            "Requirement already satisfied: pytz>=2017.3 in /usr/local/lib/python3.7/dist-packages (from pandas->lazypredict) (2022.6)\n",
            "Requirement already satisfied: python-dateutil>=2.7.3 in /usr/local/lib/python3.7/dist-packages (from pandas->lazypredict) (2.8.2)\n",
            "Requirement already satisfied: six>=1.5 in /usr/local/lib/python3.7/dist-packages (from python-dateutil>=2.7.3->pandas->lazypredict) (1.15.0)\n",
            "Requirement already satisfied: threadpoolctl>=2.0.0 in /usr/local/lib/python3.7/dist-packages (from scikit-learn->lazypredict) (3.1.0)\n",
            "Installing collected packages: lazypredict\n",
            "Successfully installed lazypredict-0.2.12\n"
          ]
        }
      ]
    },
    {
      "cell_type": "markdown",
      "source": [
        "Usage"
      ],
      "metadata": {
        "id": "GbgrUxo9_0Ac"
      }
    },
    {
      "cell_type": "code",
      "source": [
        "import lazypredict"
      ],
      "metadata": {
        "id": "NUoqOhPe_kvU"
      },
      "execution_count": 3,
      "outputs": []
    },
    {
      "cell_type": "markdown",
      "source": [
        "Classification"
      ],
      "metadata": {
        "id": "2c8eEtNm_4GN"
      }
    },
    {
      "cell_type": "code",
      "execution_count": 4,
      "metadata": {
        "id": "kdllDamlWV5B"
      },
      "outputs": [],
      "source": [
        "from lazypredict.Supervised import LazyClassifier\n",
        "from sklearn.datasets import load_breast_cancer\n",
        "from sklearn.model_selection import train_test_split"
      ]
    },
    {
      "cell_type": "code",
      "source": [
        "data = load_breast_cancer()\n",
        "X = data.data\n",
        "y= data.target"
      ],
      "metadata": {
        "id": "tL96nsyy_Qc4"
      },
      "execution_count": 5,
      "outputs": []
    },
    {
      "cell_type": "code",
      "source": [
        "X_train, X_test, y_train, y_test = train_test_split(X, y,test_size=.5,random_state =123)"
      ],
      "metadata": {
        "id": "A2j-n8jG_SiC"
      },
      "execution_count": 6,
      "outputs": []
    },
    {
      "cell_type": "code",
      "source": [
        "clf = LazyClassifier(verbose=0,ignore_warnings=True, custom_metric=None)\n",
        "models,predictions = clf.fit(X_train, X_test, y_train, y_test)"
      ],
      "metadata": {
        "colab": {
          "base_uri": "https://localhost:8080/"
        },
        "id": "8SCXxRvZ_Ukg",
        "outputId": "4b355ef0-7223-4b59-fc45-9fa09750786f"
      },
      "execution_count": 7,
      "outputs": [
        {
          "output_type": "stream",
          "name": "stderr",
          "text": [
            "100%|██████████| 29/29 [00:01<00:00, 17.79it/s]\n"
          ]
        }
      ]
    },
    {
      "cell_type": "code",
      "source": [
        "print(models)"
      ],
      "metadata": {
        "colab": {
          "base_uri": "https://localhost:8080/"
        },
        "id": "iFOyToZt_WUd",
        "outputId": "787c3b7a-1b0d-4401-8521-74b6d9adc408"
      },
      "execution_count": 8,
      "outputs": [
        {
          "output_type": "stream",
          "name": "stdout",
          "text": [
            "                               Accuracy  Balanced Accuracy  ROC AUC  F1 Score  \\\n",
            "Model                                                                           \n",
            "LinearSVC                          0.99               0.99     0.99      0.99   \n",
            "Perceptron                         0.99               0.98     0.98      0.99   \n",
            "LogisticRegression                 0.99               0.98     0.98      0.99   \n",
            "XGBClassifier                      0.98               0.98     0.98      0.98   \n",
            "SVC                                0.98               0.98     0.98      0.98   \n",
            "LabelPropagation                   0.98               0.97     0.97      0.98   \n",
            "LabelSpreading                     0.98               0.97     0.97      0.98   \n",
            "BaggingClassifier                  0.97               0.97     0.97      0.97   \n",
            "PassiveAggressiveClassifier        0.98               0.97     0.97      0.98   \n",
            "SGDClassifier                      0.98               0.97     0.97      0.98   \n",
            "RandomForestClassifier             0.97               0.97     0.97      0.97   \n",
            "CalibratedClassifierCV             0.98               0.97     0.97      0.98   \n",
            "QuadraticDiscriminantAnalysis      0.96               0.97     0.97      0.97   \n",
            "ExtraTreesClassifier               0.97               0.96     0.96      0.97   \n",
            "RidgeClassifierCV                  0.97               0.96     0.96      0.97   \n",
            "LGBMClassifier                     0.96               0.96     0.96      0.96   \n",
            "RidgeClassifier                    0.97               0.96     0.96      0.97   \n",
            "AdaBoostClassifier                 0.96               0.96     0.96      0.96   \n",
            "KNeighborsClassifier               0.96               0.96     0.96      0.96   \n",
            "BernoulliNB                        0.95               0.95     0.95      0.95   \n",
            "LinearDiscriminantAnalysis         0.96               0.95     0.95      0.96   \n",
            "GaussianNB                         0.95               0.95     0.95      0.95   \n",
            "NuSVC                              0.95               0.94     0.94      0.95   \n",
            "ExtraTreeClassifier                0.94               0.93     0.93      0.94   \n",
            "NearestCentroid                    0.95               0.93     0.93      0.95   \n",
            "DecisionTreeClassifier             0.93               0.93     0.93      0.93   \n",
            "DummyClassifier                    0.64               0.50     0.50      0.50   \n",
            "\n",
            "                               Time Taken  \n",
            "Model                                      \n",
            "LinearSVC                            0.03  \n",
            "Perceptron                           0.02  \n",
            "LogisticRegression                   0.04  \n",
            "XGBClassifier                        0.20  \n",
            "SVC                                  0.04  \n",
            "LabelPropagation                     0.03  \n",
            "LabelSpreading                       0.05  \n",
            "BaggingClassifier                    0.06  \n",
            "PassiveAggressiveClassifier          0.02  \n",
            "SGDClassifier                        0.03  \n",
            "RandomForestClassifier               0.26  \n",
            "CalibratedClassifierCV               0.05  \n",
            "QuadraticDiscriminantAnalysis        0.02  \n",
            "ExtraTreesClassifier                 0.16  \n",
            "RidgeClassifierCV                    0.02  \n",
            "LGBMClassifier                       0.12  \n",
            "RidgeClassifier                      0.02  \n",
            "AdaBoostClassifier                   0.19  \n",
            "KNeighborsClassifier                 0.03  \n",
            "BernoulliNB                          0.02  \n",
            "LinearDiscriminantAnalysis           0.05  \n",
            "GaussianNB                           0.02  \n",
            "NuSVC                                0.03  \n",
            "ExtraTreeClassifier                  0.02  \n",
            "NearestCentroid                      0.02  \n",
            "DecisionTreeClassifier               0.02  \n",
            "DummyClassifier                      0.01  \n"
          ]
        }
      ]
    },
    {
      "cell_type": "markdown",
      "source": [
        "Regression"
      ],
      "metadata": {
        "id": "c1PLHszA_-WX"
      }
    },
    {
      "cell_type": "code",
      "source": [
        "from lazypredict.Supervised import LazyRegressor\n",
        "from sklearn import datasets\n",
        "from sklearn.utils import shuffle\n",
        "import numpy as np"
      ],
      "metadata": {
        "id": "1d4At3GPAD1A"
      },
      "execution_count": 9,
      "outputs": []
    },
    {
      "cell_type": "code",
      "source": [
        "boston = datasets.load_boston()\n",
        "X, y = shuffle(boston.data, boston.target, random_state=13)\n",
        "X = X.astype(np.float32)"
      ],
      "metadata": {
        "id": "W36gceQJAH1h"
      },
      "execution_count": 10,
      "outputs": []
    },
    {
      "cell_type": "code",
      "source": [
        "offset = int(X.shape[0] * 0.9)"
      ],
      "metadata": {
        "id": "CqjoyDSWAKpF"
      },
      "execution_count": 11,
      "outputs": []
    },
    {
      "cell_type": "code",
      "source": [
        "X_train, y_train = X[:offset], y[:offset]\n",
        "X_test, y_test = X[offset:], y[offset:]"
      ],
      "metadata": {
        "id": "-kxznhHaAeeL"
      },
      "execution_count": 12,
      "outputs": []
    },
    {
      "cell_type": "code",
      "source": [
        "reg = LazyRegressor(verbose=0, ignore_warnings=False, custom_metric=None)\n",
        "models, predictions = reg.fit(X_train, X_test, y_train, y_test)"
      ],
      "metadata": {
        "colab": {
          "base_uri": "https://localhost:8080/"
        },
        "id": "pkfz1xzDAi6I",
        "outputId": "b079763f-2485-4ad2-bc39-44cc30f76c8a"
      },
      "execution_count": 13,
      "outputs": [
        {
          "output_type": "stream",
          "name": "stderr",
          "text": [
            " 12%|█▏        | 5/42 [00:00<00:02, 13.17it/s]"
          ]
        },
        {
          "output_type": "stream",
          "name": "stdout",
          "text": [
            "ElasticNetCV model failed to execute\n",
            "Gram matrix passed in via 'precompute' parameter did not pass validation when a single element was checked - please check that it was computed properly. For element (6,7) we computed -297.88409423828125 but the user-supplied value was -297.8840026855469.\n"
          ]
        },
        {
          "output_type": "stream",
          "name": "stderr",
          "text": [
            " 48%|████▊     | 20/42 [00:01<00:01, 11.76it/s]"
          ]
        },
        {
          "output_type": "stream",
          "name": "stdout",
          "text": [
            "LassoCV model failed to execute\n",
            "Gram matrix passed in via 'precompute' parameter did not pass validation when a single element was checked - please check that it was computed properly. For element (6,7) we computed -297.88409423828125 but the user-supplied value was -297.8840026855469.\n"
          ]
        },
        {
          "output_type": "stream",
          "name": "stderr",
          "text": [
            "100%|██████████| 42/42 [00:06<00:00,  6.51it/s]"
          ]
        },
        {
          "output_type": "stream",
          "name": "stdout",
          "text": [
            "[19:01:05] WARNING: /workspace/src/objective/regression_obj.cu:152: reg:linear is now deprecated in favor of reg:squarederror.\n"
          ]
        },
        {
          "output_type": "stream",
          "name": "stderr",
          "text": [
            "\n"
          ]
        }
      ]
    },
    {
      "cell_type": "code",
      "source": [
        "print(models)"
      ],
      "metadata": {
        "colab": {
          "base_uri": "https://localhost:8080/"
        },
        "id": "7K6ELyk5ApRw",
        "outputId": "104a047b-03ee-4dfd-fe58-6d831ca2cbe7"
      },
      "execution_count": 14,
      "outputs": [
        {
          "output_type": "stream",
          "name": "stdout",
          "text": [
            "                               Adjusted R-Squared  R-Squared  RMSE  Time Taken\n",
            "Model                                                                         \n",
            "SVR                                          0.83       0.88  2.62        0.03\n",
            "BaggingRegressor                             0.83       0.88  2.63        0.06\n",
            "XGBRegressor                                 0.83       0.87  2.67        0.06\n",
            "NuSVR                                        0.82       0.86  2.76        0.04\n",
            "RandomForestRegressor                        0.81       0.86  2.78        0.38\n",
            "GradientBoostingRegressor                    0.81       0.86  2.84        0.37\n",
            "ExtraTreesRegressor                          0.79       0.84  2.98        0.24\n",
            "AdaBoostRegressor                            0.78       0.83  3.04        0.36\n",
            "HistGradientBoostingRegressor                0.77       0.83  3.06        0.41\n",
            "PoissonRegressor                             0.77       0.83  3.11        0.02\n",
            "LGBMRegressor                                0.77       0.83  3.11        0.07\n",
            "KNeighborsRegressor                          0.77       0.83  3.12        0.01\n",
            "DecisionTreeRegressor                        0.65       0.74  3.79        0.01\n",
            "MLPRegressor                                 0.65       0.74  3.80        0.76\n",
            "HuberRegressor                               0.64       0.74  3.84        0.03\n",
            "GammaRegressor                               0.64       0.73  3.88        0.02\n",
            "LinearSVR                                    0.62       0.72  3.96        0.02\n",
            "RidgeCV                                      0.62       0.72  3.97        0.02\n",
            "BayesianRidge                                0.62       0.72  3.97        0.02\n",
            "Ridge                                        0.62       0.72  3.97        0.01\n",
            "LinearRegression                             0.62       0.72  3.97        0.01\n",
            "TransformedTargetRegressor                   0.62       0.72  3.97        0.01\n",
            "LassoLarsIC                                  0.62       0.72  3.98        0.02\n",
            "LassoLarsCV                                  0.62       0.72  3.98        0.03\n",
            "Lars                                         0.61       0.72  3.99        0.02\n",
            "LarsCV                                       0.61       0.71  4.02        0.05\n",
            "SGDRegressor                                 0.60       0.70  4.07        0.01\n",
            "TweedieRegressor                             0.59       0.70  4.12        0.01\n",
            "ElasticNet                                   0.58       0.69  4.16        0.02\n",
            "Lasso                                        0.54       0.66  4.35        0.02\n",
            "RANSACRegressor                              0.53       0.65  4.41        0.13\n",
            "OrthogonalMatchingPursuitCV                  0.45       0.59  4.78        0.03\n",
            "PassiveAggressiveRegressor                   0.37       0.54  5.09        0.02\n",
            "GaussianProcessRegressor                     0.23       0.43  5.65        0.15\n",
            "OrthogonalMatchingPursuit                    0.16       0.38  5.89        0.02\n",
            "ExtraTreeRegressor                           0.08       0.32  6.17        0.02\n",
            "QuantileRegressor                           -0.35      -0.00  7.49        2.73\n",
            "DummyRegressor                              -0.38      -0.02  7.56        0.01\n",
            "LassoLars                                   -0.38      -0.02  7.56        0.02\n",
            "KernelRidge                                -11.50      -8.25 22.74        0.04\n"
          ]
        }
      ]
    }
  ]
}